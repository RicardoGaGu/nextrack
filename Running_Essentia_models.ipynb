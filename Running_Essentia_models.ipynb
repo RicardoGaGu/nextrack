{
 "cells": [
  {
   "cell_type": "code",
   "execution_count": 14,
   "id": "b7a85be9",
   "metadata": {},
   "outputs": [
    {
     "name": "stdout",
     "output_type": "stream",
     "text": [
      "1: electronic\n",
      "2: dance\n",
      "3: chillout\n"
     ]
    }
   ],
   "source": [
    "import numpy as np\n",
    "from essentia.standard import *\n",
    "\n",
    "msd_labels = ['rock','pop','alternative','indie','electronic','female vocalists','dance','00s','alternative rock','jazz','beautiful','metal','chillout','male vocalists','classic rock','soul','indie rock','Mellow','electronica','80s','folk','90s','chill','instrumental','punk','oldies','blues','hard rock','ambient','acoustic','experimental','female vocalist','guitar','Hip-Hop','70s','party','country','easy listening','sexy','catchy','funk','electro','heavy metal','Progressive rock','60s','rnb','indie pop','sad','House','happy']\n",
    "\n",
    "# Our models take audio streams at 16kHz\n",
    "sr = 16000\n",
    "\n",
    "# Instantiate a MonoLoader and run it in the same line\n",
    "audio = MonoLoader(filename='/home/ricardogagu/Escritorio/AI_Music/Genre_classification/data/Classic_House/01 - From Nowhere With Love.mp3', sampleRate=sr)()\n",
    "\n",
    "# Instatiate the tagger and pass it the audio\n",
    "predictions = TensorflowPredictMusiCNN(graphFilename='models/msd-musicnn-1.pb')(audio)\n",
    "\n",
    "# Retrieve the top_n tags\n",
    "top_n = 3\n",
    "\n",
    "# The shape of the predictions matrix is [n_patches, n_labels]\n",
    "# Take advantage of NumPy to average them over the time axis\n",
    "averaged_predictions = np.mean(predictions, axis=0)\n",
    "\n",
    "# Sort the predictions and get the top N\n",
    "for i, l in enumerate(averaged_predictions.argsort()[-top_n:][::-1], 1):\n",
    "    print('{}: {}'.format(i, msd_labels[l]))"
   ]
  },
  {
   "cell_type": "code",
   "execution_count": null,
   "id": "6b5223e7",
   "metadata": {},
   "outputs": [],
   "source": []
  }
 ],
 "metadata": {
  "kernelspec": {
   "display_name": "pyaudio",
   "language": "python",
   "name": "pyaudio"
  },
  "language_info": {
   "codemirror_mode": {
    "name": "ipython",
    "version": 3
   },
   "file_extension": ".py",
   "mimetype": "text/x-python",
   "name": "python",
   "nbconvert_exporter": "python",
   "pygments_lexer": "ipython3",
   "version": "3.7.7"
  }
 },
 "nbformat": 4,
 "nbformat_minor": 5
}
