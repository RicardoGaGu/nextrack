{
 "cells": [
  {
   "cell_type": "code",
   "execution_count": 1,
   "id": "ad86fd0c",
   "metadata": {},
   "outputs": [
    {
     "ename": "SyntaxError",
     "evalue": "invalid syntax (<ipython-input-1-2455bf6189ea>, line 2)",
     "output_type": "error",
     "traceback": [
      "\u001b[0;36m  File \u001b[0;32m\"<ipython-input-1-2455bf6189ea>\"\u001b[0;36m, line \u001b[0;32m2\u001b[0m\n\u001b[0;31m    modelName =\u001b[0m\n\u001b[0m                ^\u001b[0m\n\u001b[0;31mSyntaxError\u001b[0m\u001b[0;31m:\u001b[0m invalid syntax\n"
     ]
    }
   ],
   "source": [
    "import essentia.standard as es\n",
    "modelName = 'msd-musicnn-1.pb'\n",
    "input_layer = 'model/Placeholder'\n",
    "output_layer = 'model/Sigmoid'\n",
    "msd_labels = ['rock','pop','alternative','indie','electronic','female vocalists',\n",
    "              'dance','00s','alternative rock','jazz','beautiful','metal','chillout',\n",
    "              'male vocalists','classic rock','soul','indie rock','Mellow','electronica',\n",
    "              '80s','folk','90s','chill','instrumental','punk','oldies','blues','hard rock',\n",
    "              'ambient','acoustic','experimental','female vocalist','guitar','Hip-Hop','70s',\n",
    "              'party','country','easy listening','sexy','catchy','funk','electro','heavy metal',\n",
    "              'Progressive rock','60s','rnb','indie pop','sad','House','happy']\n",
    "\n",
    "predict = es.TensorflowPredict(graphFilename=modelName,\n",
    "                               inputs=[input_layer],\n",
    "                               outputs=[output_layer])\n",
    "in_pool = Pool()"
   ]
  },
  {
   "cell_type": "code",
   "execution_count": null,
   "id": "bba24300",
   "metadata": {},
   "outputs": [],
   "source": [
    "from essentia.streaming import *\n",
    "from essentia import Pool, run\n",
    "\n",
    "filename = '/home/ricardogagu/Escritorio/AI_Music/Genre_classification/data/Classic_House/01 - From Nowhere With Love.mp3'\n",
    "\n",
    "# Algorithms for mel-spectrogram computation\n",
    "audio = MonoLoader(filename=filename, sampleRate=sampleRate)\n",
    "\n",
    "fc = FrameCutter(frameSize=frameSize, hopSize=hopSize)\n",
    "\n",
    "w = Windowing(normalized=False)\n",
    "\n",
    "spec = Spectrum()\n",
    "\n",
    "mel = MelBands(numberBands=numberBands, sampleRate=sampleRate,\n",
    "               highFrequencyBound=sampleRate // 2, \n",
    "               inputSize=frameSize // 2 + 1,\n",
    "               weighting=weighting, normalize=normalize,\n",
    "               warpingFormula=warpingFormula)\n",
    "\n",
    "# Algorithms for logarithmic compression of mel-spectrograms\n",
    "shift = UnaryOperator(shift=1, scale=10000)\n",
    "\n",
    "comp = UnaryOperator(type='log10')\n",
    "\n",
    "# This algorithm cuts the mel-spectrograms into patches\n",
    "# according to the model's input size and stores them in a data\n",
    "# type compatible with TensorFlow\n",
    "vtt = VectorRealToTensor(shape=[1, 1, patchSize, numberBands])\n",
    "\n",
    "# Auxiliar algorithm to store tensors into pools\n",
    "ttp = TensorToPool(namespace=input_layer)\n",
    "\n",
    "# The core TensorFlow wrapper algorithm operates on pools\n",
    "# to accept a variable number of inputs and outputs\n",
    "tfp = TensorflowPredict(graphFilename=modelName,\n",
    "                        inputs=[input_layer],\n",
    "                        outputs=[output_layer])\n",
    "\n",
    "# Algorithms to retrieve the predictions from the wrapper\n",
    "ptt = PoolToTensor(namespace=output_layer)\n",
    "\n",
    "ttv = TensorToVectorReal()\n",
    "\n",
    "# Another pool to store output predictions\n",
    "pool = Pool()\n"
   ]
  },
  {
   "cell_type": "code",
   "execution_count": null,
   "id": "15ffe41d",
   "metadata": {},
   "outputs": [],
   "source": [
    "audio.audio    >>  fc.signal\n",
    "fc.frame       >>  w.frame\n",
    "w.frame        >>  spec.frame\n",
    "spec.spectrum  >>  mel.spectrum\n",
    "mel.bands      >>  shift.array\n",
    "shift.array    >>  comp.array\n",
    "comp.array     >>  vtt.frame\n",
    "vtt.tensor     >>  ttp.tensor\n",
    "ttp.pool       >>  tfp.poolIn\n",
    "tfp.poolOut    >>  ptt.pool\n",
    "ptt.tensor     >>  ttv.tensor\n",
    "ttv.frame      >>  (pool, output_layer)\n",
    "\n",
    "# Store mel-spectrograms to reuse them later in this tutorial\n",
    "comp.array     >>  (pool, \"melbands\")\n"
   ]
  }
 ],
 "metadata": {
  "kernelspec": {
   "display_name": "pyaudio",
   "language": "python",
   "name": "pyaudio"
  },
  "language_info": {
   "codemirror_mode": {
    "name": "ipython",
    "version": 3
   },
   "file_extension": ".py",
   "mimetype": "text/x-python",
   "name": "python",
   "nbconvert_exporter": "python",
   "pygments_lexer": "ipython3",
   "version": "3.7.7"
  }
 },
 "nbformat": 4,
 "nbformat_minor": 5
}
